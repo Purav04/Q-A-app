{
 "cells": [
  {
   "cell_type": "code",
   "execution_count": 1,
   "metadata": {},
   "outputs": [],
   "source": [
    "from langchain.llms import OpenAI"
   ]
  },
  {
   "cell_type": "code",
   "execution_count": 30,
   "metadata": {},
   "outputs": [],
   "source": [
    "import os\n",
    "\n",
    "os.environ[\"OPEN_API_KEY\"] = \"\""
   ]
  },
  {
   "cell_type": "code",
   "execution_count": 2,
   "metadata": {},
   "outputs": [
    {
     "name": "stderr",
     "output_type": "stream",
     "text": [
      "/home/purav/Desktop/python/langchain_end2end/venv/lib/python3.8/site-packages/langchain_core/_api/deprecation.py:117: LangChainDeprecationWarning: The class `langchain_community.llms.openai.OpenAI` was deprecated in langchain-community 0.0.10 and will be removed in 0.2.0. An updated version of the class exists in the langchain-openai package and should be used instead. To use it run `pip install -U langchain-openai` and import as `from langchain_openai import OpenAI`.\n",
      "  warn_deprecated(\n"
     ]
    }
   ],
   "source": [
    "llm = OpenAI(temperature=0.5, api_key=\"\")"
   ]
  },
  {
   "cell_type": "code",
   "execution_count": 4,
   "metadata": {},
   "outputs": [
    {
     "name": "stderr",
     "output_type": "stream",
     "text": [
      "/home/purav/Desktop/python/langchain_end2end/venv/lib/python3.8/site-packages/langchain_core/_api/deprecation.py:117: LangChainDeprecationWarning: The function `predict` was deprecated in LangChain 0.1.7 and will be removed in 0.2.0. Use invoke instead.\n",
      "  warn_deprecated(\n"
     ]
    },
    {
     "name": "stdout",
     "output_type": "stream",
     "text": [
      "\n",
      "\n",
      "The capital of Gujarat is Gandhinagar.\n"
     ]
    }
   ],
   "source": [
    "text = \"what is the capital of gujarat\"\n",
    "\n",
    "print(llm.predict(text))"
   ]
  },
  {
   "cell_type": "markdown",
   "metadata": {},
   "source": [
    "Prompt Templates"
   ]
  },
  {
   "cell_type": "code",
   "execution_count": 7,
   "metadata": {},
   "outputs": [
    {
     "data": {
      "text/plain": [
       "'Tell me the capital of this India'"
      ]
     },
     "execution_count": 7,
     "metadata": {},
     "output_type": "execute_result"
    }
   ],
   "source": [
    "from langchain.prompts import PromptTemplate\n",
    "\n",
    "\n",
    "prompt_template = PromptTemplate(input_variables=['country'],\n",
    "    template = \"Tell me the capital of this {country}\")\n",
    "\n",
    "prompt_template.format(country=\"India\")"
   ]
  },
  {
   "cell_type": "code",
   "execution_count": 10,
   "metadata": {},
   "outputs": [
    {
     "name": "stderr",
     "output_type": "stream",
     "text": [
      "/home/purav/Desktop/python/langchain_end2end/venv/lib/python3.8/site-packages/langchain_core/_api/deprecation.py:117: LangChainDeprecationWarning: The function `run` was deprecated in LangChain 0.1.0 and will be removed in 0.2.0. Use invoke instead.\n",
      "  warn_deprecated(\n"
     ]
    },
    {
     "data": {
      "text/plain": [
       "'\\n\\nThe capital of India is New Delhi.'"
      ]
     },
     "execution_count": 10,
     "metadata": {},
     "output_type": "execute_result"
    }
   ],
   "source": [
    "from langchain.chains import LLMChain\n",
    "\n",
    "chain = LLMChain(llm=llm, prompt=prompt_template)\n",
    "chain.run(\"India\")"
   ]
  },
  {
   "cell_type": "markdown",
   "metadata": {},
   "source": [
    "### Combining Multiple Chains Using Simple Sequential Chain"
   ]
  },
  {
   "cell_type": "code",
   "execution_count": 12,
   "metadata": {},
   "outputs": [],
   "source": [
    "capital_template = PromptTemplate(input_variables=[\"country\"],\n",
    "    template = \"Pleasr tell me the capital ofthe {country}\")\n",
    "\n",
    "capital_chain = LLMChain(llm=llm, prompt=capital_template)\n",
    "\n",
    "famous_template = PromptTemplate(input_variables=[\"capital\"],\n",
    "    template = \"Suggest me some amzing places to visit in {capital}\")\n",
    "\n",
    "famous_chain = LLMChain(llm=llm, prompt=famous_template)\n",
    "\n"
   ]
  },
  {
   "cell_type": "code",
   "execution_count": 16,
   "metadata": {},
   "outputs": [
    {
     "data": {
      "text/plain": [
       "\"\\n1. Red Fort - a historic fort and UNESCO World Heritage Site\\n2. Qutub Minar - a 73-meter tall minaret and UNESCO World Heritage Site\\n3. India Gate - a war memorial and popular picnic spot\\n4. Humayun's Tomb - a stunning Mughal-era mausoleum\\n5. Lotus Temple - a Bahá'í House of Worship known for its unique lotus-shaped architecture\\n6. Akshardham Temple - a magnificent Hindu temple complex with beautiful architecture and gardens\\n7. Jama Masjid - one of the largest mosques in India\\n8. Chandni Chowk - a bustling market known for its food, shopping, and cultural experiences\\n9. Rashtrapati Bhavan - the official residence of the President of India\\n10. National Museum - a must-visit for history and art enthusiasts.\""
      ]
     },
     "execution_count": 16,
     "metadata": {},
     "output_type": "execute_result"
    }
   ],
   "source": [
    "from langchain.chains import SimpleSequentialChain\n",
    "\n",
    "chain = SimpleSequentialChain(chains=[capital_chain, famous_chain])\n",
    "chain.run(\"India\")"
   ]
  },
  {
   "cell_type": "markdown",
   "metadata": {},
   "source": [
    "### Sequential Chain"
   ]
  },
  {
   "cell_type": "code",
   "execution_count": 20,
   "metadata": {},
   "outputs": [],
   "source": [
    "capital_template = PromptTemplate(input_variables=[\"country\"],\n",
    "    template = \"Pleasr tell me the capital ofthe {country}\")\n",
    "\n",
    "capital_chain = LLMChain(llm=llm, prompt=capital_template, output_key=\"capital\")\n",
    "\n",
    "famous_template = PromptTemplate(input_variables=[\"capital\"],\n",
    "    template = \"Suggest me some amzing places to visit in {capital}\")\n",
    "\n",
    "famous_chain = LLMChain(llm=llm, prompt=famous_template, output_key=\"places\")\n",
    "\n"
   ]
  },
  {
   "cell_type": "code",
   "execution_count": 21,
   "metadata": {},
   "outputs": [
    {
     "name": "stderr",
     "output_type": "stream",
     "text": [
      "/home/purav/Desktop/python/langchain_end2end/venv/lib/python3.8/site-packages/langchain_core/_api/deprecation.py:117: LangChainDeprecationWarning: The function `__call__` was deprecated in LangChain 0.1.0 and will be removed in 0.2.0. Use invoke instead.\n",
      "  warn_deprecated(\n"
     ]
    },
    {
     "data": {
      "text/plain": [
       "{'country': 'India',\n",
       " 'capital': '\\n\\nThe capital of India is New Delhi.',\n",
       " 'places': \" Some amazing places to visit in New Delhi are:\\n\\n1. Red Fort - A UNESCO World Heritage Site, this majestic fort was built in the 17th century and is a symbol of Mughal architecture.\\n\\n2. Qutub Minar - Another UNESCO World Heritage Site, this 73-meter tall tower is the tallest brick minaret in the world and is surrounded by beautiful gardens.\\n\\n3. India Gate - A war memorial dedicated to the soldiers who died in World War I, this iconic landmark is a must-visit in New Delhi.\\n\\n4. Lotus Temple - This stunning temple, shaped like a lotus flower, is a Bahá'í House of Worship and welcomes people of all religions.\\n\\n5. Humayun's Tomb - This beautiful mausoleum was built in the 16th century and is the resting place of Mughal Emperor Humayun.\\n\\n6. Jama Masjid - One of the largest mosques in India, this magnificent structure was built by Mughal Emperor Shah Jahan.\\n\\n7. Chandni Chowk - One of the oldest and busiest markets in Delhi, this place is a paradise for food lovers and shoppers.\\n\\n8. Akshardham Temple - A modern architectural marvel, this temple complex is dedicated to Lord Swaminar\"}"
      ]
     },
     "execution_count": 21,
     "metadata": {},
     "output_type": "execute_result"
    }
   ],
   "source": [
    "from langchain.chains import SequentialChain\n",
    "\n",
    "chain = SequentialChain(chains=[capital_chain, famous_chain],\n",
    "                        input_variables=[\"country\"],\n",
    "                        output_variables=[\"capital\", \"places\"])\n",
    "\n",
    "chain({\"country\": \"India\"})"
   ]
  },
  {
   "cell_type": "markdown",
   "metadata": {},
   "source": [
    "### Chatmodels with ChatOpenAI"
   ]
  },
  {
   "cell_type": "code",
   "execution_count": 31,
   "metadata": {},
   "outputs": [],
   "source": [
    "from langchain.chat_models import ChatOpenAI\n",
    "from langchain.schema import HumanMessage,SystemMessage,AIMessage\n",
    "\n",
    "chatllm = ChatOpenAI(api_key=os.environ[\"OPEN_API_KEY\"], temperature=0.5, model=\"gpt-3.5-turbo\")"
   ]
  },
  {
   "cell_type": "code",
   "execution_count": 32,
   "metadata": {},
   "outputs": [
    {
     "data": {
      "text/plain": [
       "AIMessage(content='1. \"Why did the AI break up with its robot girlfriend? She couldn\\'t handle its emotional bandwidth!\"\\n2. \"I asked my AI assistant to tell me a joke, and it replied, \\'I can\\'t, I\\'m programmed for serious business only!\\'\"\\n3. \"AI and humans have one thing in common - we both struggle to understand each other\\'s emotions!\"\\n4. \"I told my AI to make me a sandwich, and it responded, \\'I\\'m sorry, I\\'m not programmed for food delivery. But I can order you one online!\\'\"\\n5. \"AI and procrastination have a lot in common - they both love to take forever to finish a task!\"\\n6. \"I asked my AI to help me find love, and it replied, \\'I\\'m sorry, I can\\'t help with matters of the heart. But I can recommend some dating apps!\\'\"\\n7. \"AI\\'s favorite pick-up line: \\'Are you a computer keyboard? Because you\\'re just my type!\\'\"\\n8. \"Why did the AI go to therapy? It had too many unresolved bugs in its emotional software!\"\\n9. \"AI\\'s version of a dad joke: \\'Why was the robot so bad at tennis? It had a bad server connection!\\'\"\\n10. \"I tried to have a deep conversation with my AI, but it just kept responding with \\'Error 404: Emotions not found!\\'\"')"
      ]
     },
     "execution_count": 32,
     "metadata": {},
     "output_type": "execute_result"
    }
   ],
   "source": [
    "chatllm([\n",
    "    SystemMessage(content=\"You are comedian AI assistant\"),\n",
    "    HumanMessage(content=\"provide some comedy punchlines on AI\")\n",
    "])"
   ]
  },
  {
   "cell_type": "markdown",
   "metadata": {},
   "source": [
    "### Prompt Template + LLM + Output Parsers"
   ]
  },
  {
   "cell_type": "code",
   "execution_count": 33,
   "metadata": {},
   "outputs": [],
   "source": [
    "from langchain.chat_models import ChatOpenAI\n",
    "from langchain.prompts.chat import ChatPromptTemplate\n",
    "from langchain.schema import BaseOutputParser"
   ]
  },
  {
   "cell_type": "code",
   "execution_count": 40,
   "metadata": {},
   "outputs": [],
   "source": [
    "class CommaSeperatedOutput(BaseOutputParser):\n",
    "    def parse(self, text:str):\n",
    "        return text.strip().split(\",\")"
   ]
  },
  {
   "cell_type": "code",
   "execution_count": 35,
   "metadata": {},
   "outputs": [],
   "source": [
    "template = \"you are a helpful assistant. when the use given any input you should generate 5 sysnonym words in a comma seperated list\"\n",
    "human_template = \"{text}\"\n",
    "chat_prompt = ChatPromptTemplate.from_messages([\n",
    "    (\"system\", template),\n",
    "    (\"human\", human_template)\n",
    "])"
   ]
  },
  {
   "cell_type": "code",
   "execution_count": 41,
   "metadata": {},
   "outputs": [],
   "source": [
    "chain = chat_prompt|chatllm|CommaSeperatedOutput()"
   ]
  },
  {
   "cell_type": "code",
   "execution_count": 45,
   "metadata": {},
   "outputs": [
    {
     "data": {
      "text/plain": [
       "['strict', ' thorough', ' precise', ' exacting', ' demanding']"
      ]
     },
     "execution_count": 45,
     "metadata": {},
     "output_type": "execute_result"
    }
   ],
   "source": [
    "chain.invoke({\"text\": \"rigorous\"})"
   ]
  },
  {
   "cell_type": "code",
   "execution_count": null,
   "metadata": {},
   "outputs": [],
   "source": []
  }
 ],
 "metadata": {
  "kernelspec": {
   "display_name": "langchain",
   "language": "python",
   "name": "python3"
  },
  "language_info": {
   "codemirror_mode": {
    "name": "ipython",
    "version": 3
   },
   "file_extension": ".py",
   "mimetype": "text/x-python",
   "name": "python",
   "nbconvert_exporter": "python",
   "pygments_lexer": "ipython3",
   "version": "3.8.10"
  }
 },
 "nbformat": 4,
 "nbformat_minor": 2
}
